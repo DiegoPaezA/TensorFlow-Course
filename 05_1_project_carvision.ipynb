{
 "cells": [
  {
   "attachments": {},
   "cell_type": "markdown",
   "metadata": {},
   "source": [
    "<table align=\"left\">\n",
    "  <td>\n",
    "    <a href=\"https://tinyurl.com/2bxjgvzn\" target=\"_parent\"><img src=\"https://colab.research.google.com/assets/colab-badge.svg\" alt=\"Open In Colab\"/></a>\n",
    "  </td>\n",
    "</table>"
   ]
  },
  {
   "attachments": {},
   "cell_type": "markdown",
   "metadata": {},
   "source": [
    "# Project 2: Car Vision"
   ]
  },
  {
   "cell_type": "code",
   "execution_count": 1,
   "metadata": {},
   "outputs": [],
   "source": [
    "import tensorflow as tf\n",
    "import helper_functions as hf\n",
    "from tensorflow import keras\n",
    "from tensorflow.keras import layers"
   ]
  },
  {
   "attachments": {},
   "cell_type": "markdown",
   "metadata": {},
   "source": [
    "## 1. Utilizar TensorFlow Datasets para descargar los datos\n",
    "\n",
    "Para descargar los datos, se utilizará la biblioteca [TensorFlow Datasets](https://www.tensorflow.org/datasets?hl=es-419) (TFDS). TFDS es una biblioteca de TensorFlow que contiene una variedad de datasets listos para usar.\n",
    "\n",
    "\n",
    "TFDS tiene una función llamada [`tfds.load()`](https://www.tensorflow.org/datasets/api_docs/python/tfds/load?hl=es-419) que se puede utilizar para descargar un dataset. Esta función toma un nombre de dataset como su argumento y devuelve un objeto [`tf.data.Dataset`](https://www.tensorflow.org/api_docs/python/tf/data/Dataset?hl=es-419) que contiene los datos del dataset."
   ]
  },
  {
   "cell_type": "code",
   "execution_count": 2,
   "metadata": {},
   "outputs": [],
   "source": [
    "# Get TensorFlow Datasets\n",
    "import tensorflow_datasets as tfds"
   ]
  },
  {
   "cell_type": "code",
   "execution_count": 5,
   "metadata": {},
   "outputs": [
    {
     "name": "stdout",
     "output_type": "stream",
     "text": [
      "True\n"
     ]
    }
   ],
   "source": [
    "# lista de todos los datasets disponibles\n",
    "datasets_list = tfds.list_builders()\n",
    "print(\"cars196\" in datasets_list)"
   ]
  },
  {
   "cell_type": "code",
   "execution_count": 7,
   "metadata": {},
   "outputs": [],
   "source": [
    "# importar dataset cars196 https://www.tensorflow.org/datasets/catalog/cars196?hl=es-419\n",
    "# food101 pesa 1.82 GiB la descarga depende de la velocidad del internet\n",
    "(train_data, test_data), ds_info = tfds.load(name=\"cars196\",\n",
    "                                    split=[\"train\", \"test\"],\n",
    "                                    shuffle_files=True,\n",
    "                                    as_supervised=True, # los datos son devueltos en forma de tumple (data,label)\n",
    "                                    with_info=True)"
   ]
  }
 ],
 "metadata": {
  "kernelspec": {
   "display_name": "gpu",
   "language": "python",
   "name": "python3"
  },
  "language_info": {
   "codemirror_mode": {
    "name": "ipython",
    "version": 3
   },
   "file_extension": ".py",
   "mimetype": "text/x-python",
   "name": "python",
   "nbconvert_exporter": "python",
   "pygments_lexer": "ipython3",
   "version": "3.9.13"
  },
  "orig_nbformat": 4,
  "vscode": {
   "interpreter": {
    "hash": "8173103b97bf613cde717d81021a4a8a77760fbef76bd6423549d26b1e1d3fec"
   }
  }
 },
 "nbformat": 4,
 "nbformat_minor": 2
}

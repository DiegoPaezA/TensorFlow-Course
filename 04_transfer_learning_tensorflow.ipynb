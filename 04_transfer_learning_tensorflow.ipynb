{
 "cells": [
  {
   "attachments": {},
   "cell_type": "markdown",
   "metadata": {},
   "source": [
    "<table align=\"left\">\n",
    "  <td>\n",
    "    <a href=\"https://tinyurl.com/2pkzxsha\" target=\"_parent\"><img src=\"https://colab.research.google.com/assets/colab-badge.svg\" alt=\"Open In Colab\"/></a>\n",
    "  </td>\n",
    "</table>"
   ]
  },
  {
   "attachments": {},
   "cell_type": "markdown",
   "metadata": {},
   "source": [
    "# Transfer Learning con TensorFlow\n",
    "\n",
    "En este notebook vamos a ver cómo podemos usar transfer learning para mejorar el rendimiento de un modelo de clasificación de imágenes.\n",
    "\n",
    "Transfer learning es una técnica de aprendizaje automático que nos permite aprovechar los patrones aprendidos por un modelo en un problema para resolver otro problema.\n",
    "\n",
    "Hay dos beneficios principales al usar transfer learning:\n",
    "\n",
    "- Puede aprovechar una arquitectura de red neuronal existente probada para funcionar en problemas similares a los nuestros.\n",
    "- Puede aprovechar una arquitectura de red neuronal que ya funciona y que ha aprendido patrones en datos similares a los nuestros. Esto a menudo resulta en lograr excelentes resultados con menos datos personalizados.\n",
    "\n",
    ":book: **Vamos a ver lo siguiente con TensorFlow:**\n",
    "\n",
    "- Introdución a transfer learning (una forma de superar todos nuestros modelos anteriores)\n",
    "- Usar un dataset más pequeño para experimentar más rápido (10% de las muestras de entrenamiento de 10 clases de comida)\n",
    "- Construir un modelo de extracción de características de transfer learning usando TensorFlow Hub\n",
    "- Introducir el callback TensorBoard para rastrear los resultados del entrenamiento del modelo\n",
    "- Comparar los resultados del modelo usando TensorBoard\n"
   ]
  }
 ],
 "metadata": {
  "kernelspec": {
   "display_name": "gpu",
   "language": "python",
   "name": "python3"
  },
  "language_info": {
   "name": "python",
   "version": "3.9.13 (main, Aug 25 2022, 23:51:50) [MSC v.1916 64 bit (AMD64)]"
  },
  "orig_nbformat": 4,
  "vscode": {
   "interpreter": {
    "hash": "8173103b97bf613cde717d81021a4a8a77760fbef76bd6423549d26b1e1d3fec"
   }
  }
 },
 "nbformat": 4,
 "nbformat_minor": 2
}

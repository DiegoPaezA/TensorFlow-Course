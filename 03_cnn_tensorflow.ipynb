{
 "cells": [
  {
   "attachments": {},
   "cell_type": "markdown",
   "metadata": {},
   "source": [
    "# Redes Neuronales Convolucionales(CNN) - Tensorflow\n",
    "\n",
    "Las redes neuronales convolucionales son una variación de las redes neuronales artificiales que se han vuelto muy populares en el campo del aprendizaje profundo. Las redes neuronales convolucionales son muy eficientes para analizar imágenes y videos.\n",
    "\n",
    "Temas a cubrir en este notebook:\n",
    "\n",
    "* Obtener dataset para trabajar con ellos\n",
    "* Arquitectura de una CNN\n",
    "* Un ejemplo end-to-end de una CNN\n",
    "* Pasos para el modelamiento de un problema de clasificación binaria con CNN\n",
    "    * Conocer los datos\n",
    "    * Preprocesamiento de los datos\n",
    "    * Construcción del modelo de CNN\n",
    "    * Entrenamiento del modelo\n",
    "    * Evaluación del modelo\n",
    "    * Mejorar el modelo\n",
    "    * Realizar predicciones con el modelo entrenado\n",
    "* Pasos para el modelamiento de un problema de clasificación multiclase con CNN\n",
    "    * Conocer los datos\n",
    "    * Preprocesamiento de los datos\n",
    "    * Construcción del modelo de CNN\n",
    "    * Entrenamiento del modelo\n",
    "    * Evaluación del modelo\n",
    "    * Mejorar el modelo\n",
    "    * Realizar predicciones con el modelo entrenado"
   ]
  },
  {
   "cell_type": "code",
   "execution_count": null,
   "metadata": {},
   "outputs": [],
   "source": []
  }
 ],
 "metadata": {
  "kernelspec": {
   "display_name": "gpu",
   "language": "python",
   "name": "python3"
  },
  "language_info": {
   "name": "python",
   "version": "3.9.13 (main, Aug 25 2022, 23:51:50) [MSC v.1916 64 bit (AMD64)]"
  },
  "orig_nbformat": 4,
  "vscode": {
   "interpreter": {
    "hash": "8173103b97bf613cde717d81021a4a8a77760fbef76bd6423549d26b1e1d3fec"
   }
  }
 },
 "nbformat": 4,
 "nbformat_minor": 2
}

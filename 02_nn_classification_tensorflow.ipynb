{
 "cells": [
  {
   "cell_type": "markdown",
   "metadata": {},
   "source": [
    "<table align=\"left\">\n",
    "  <td>\n",
    "    <a href=\"https://tinyurl.com/2qvvet2y\" target=\"_parent\"><img src=\"https://colab.research.google.com/assets/colab-badge.svg\" alt=\"Open In Colab\"/></a>\n",
    "  </td>\n",
    "</table>"
   ]
  },
  {
   "cell_type": "markdown",
   "metadata": {},
   "source": [
    "# Redes Neuronales - Clasificación con TensorFlow\n",
    "\n",
    "Un problema de clasificación es un problema de aprendizaje supervisado en cual se busca predecir si un ejemplo pertenece a una clase o a otra. En este notebook vamos a ver como resolver un problema de clasificación con TensorFlow.\n",
    "\n",
    "Ejemplos de problemas de clasificación son:\n",
    "\n",
    "- Dado un correo electrónico, predecir si es spam o no.\n",
    "- Dado un tumor, predecir si es maligno o benigno.\n",
    "- Decidir si una imagen contiene comida, un gato o un perro.\n",
    "- Dado un tweet, predecir si es positivo o negativo.\n",
    "- Predecir que categoría se le debe asignar a un artículo de Wikipedia.\n",
    "\n",
    "En este notebook se abordarán los siguientes temas:\n",
    "\n",
    "- Arquitectura de un modelo de clasificación con TensorFlow.\n",
    "- Shapes de entrada y salida.\n",
    "    - X: matriz de características.\n",
    "    - Y: matriz de etiquetas.\n",
    "        - A que clase pertenece cada ejemplo.\n",
    "\n",
    "Creating custom data to view and fit\n",
    "Steps in modelling for binary and mutliclass classification\n",
    "Creating a model\n",
    "Compiling a model\n",
    "Defining a loss function\n",
    "Setting up an optimizer\n",
    "Finding the best learning rate\n",
    "Creating evaluation metrics\n",
    "Fitting a model (getting it to find patterns in our data)\n",
    "Improving a model\n",
    "The power of non-linearity\n",
    "Evaluating classification models\n",
    "Visualizng the model (\"visualize, visualize, visualize\")\n",
    "Looking at training curves\n",
    "Compare predictions to ground truth (using our evaluation metrics)"
   ]
  },
  {
   "cell_type": "code",
   "execution_count": null,
   "metadata": {},
   "outputs": [],
   "source": []
  }
 ],
 "metadata": {
  "kernelspec": {
   "display_name": "Python 3.9.13 ('gpu')",
   "language": "python",
   "name": "python3"
  },
  "language_info": {
   "name": "python",
   "version": "3.9.13"
  },
  "orig_nbformat": 4,
  "vscode": {
   "interpreter": {
    "hash": "8173103b97bf613cde717d81021a4a8a77760fbef76bd6423549d26b1e1d3fec"
   }
  }
 },
 "nbformat": 4,
 "nbformat_minor": 2
}

{
 "cells": [
  {
   "cell_type": "markdown",
   "metadata": {},
   "source": [
    "<table align=\"left\">\n",
    "  <td>\n",
    "    <a href=\"https://is.gd/Z5C7xc\" target=\"_parent\"><img src=\"https://colab.research.google.com/assets/colab-badge.svg\" alt=\"Open In Colab\"/></a>\n",
    "  </td>\n",
    "</table>"
   ]
  },
  {
   "cell_type": "markdown",
   "metadata": {},
   "source": [
    "# Redes Neuronales - Regresión Con Tensorflow\n",
    "\n",
    "Un problema de regresión está enfocado en predecir un número asociado a un problema especifico. \n",
    "\n",
    "Por ejemplo, predecir el precio de una casa, predecir el precio de una acción, predecir la cantidad de ventas de un producto, etc.\n",
    "\n",
    "Ejemplos:\n",
    "- En cuanto será vendida una casa?\n",
    "- Cuanto tiempo durará una batería?\n",
    "- Cuantas personas comprarán un producto?\n",
    "- Cuanto costará mi seguro medico?\n",
    "- Cuanto debería guardar cada semana para gasolina?\n",
    "\n",
    "En **deteccón de objetos**, la regresión es usada para predecir la posición de un objeto en la imagen y la clase del objeto. Por ejemplo, si queremos predecir la posición de un rostro en una imagen y la clase del rostro, la regresión nos dirá la posición de la esquina superior izquierda y la esquina inferior derecha del rostro y la clase del rostro.\n",
    "\n",
    "> :book: En este notebook se abordaran los siguientes temas:\n",
    "\n",
    "- Arquitectura de una red neuronal para regresión\n",
    "- Shapes de entrada y salida de un modelo de regresión\n",
    "- Crear datos personalizados para visualizar y entrenar un modelo de regresión\n",
    "- Pasos en la creación de un modelo de regresión\n",
    "    - Crear un modelo, \n",
    "    - Compilar el modelo,\n",
    "    - Entrenar el modelo,\n",
    "    - Evaluar el modelo,\n",
    "- Diferentes metodos de evaluación de un modelo de regresión\n",
    "- Salvar y cargar un modelo de regresión\n",
    "\n",
    "[Referencia - Neural Network Regression with TensorFlow](https://is.gd/q7Ap79)"
   ]
  },
  {
   "cell_type": "markdown",
   "metadata": {},
   "source": [
    "## Arquitectura de una red neuronal para regresión\n",
    "\n",
    "En la primera imagen se observan los hiperparametros que conforman la arquitectura tipica de red neuronal. \n",
    "\n",
    "La segunda imagen muestra la arquitectura basica de una red neuronal para regresión.\n",
    "\n",
    "\n",
    "<a href=\"https://ibb.co/g6wZHgF\"><img src=\"https://i.ibb.co/SJ0wWv7/parametros-NN.png\" alt=\"parametros-NN\" border=\"0\"></a>\n",
    "\n",
    "<a href=\"\"><img src=\"https://is.gd/HS4TNP\" alt=\"NN\" border=\"0\"></a>"
   ]
  },
  {
   "cell_type": "code",
   "execution_count": 113,
   "metadata": {},
   "outputs": [
    {
     "name": "stdout",
     "output_type": "stream",
     "text": [
      "2.6.0\n"
     ]
    }
   ],
   "source": [
    "# importar TensorFlow\n",
    "import tensorflow as tf\n",
    "print(tf.__version__)"
   ]
  },
  {
   "cell_type": "markdown",
   "metadata": {},
   "source": [
    "## Crear datos personalizados para visualizar y entrenar un modelo de regresión"
   ]
  },
  {
   "cell_type": "code",
   "execution_count": 114,
   "metadata": {},
   "outputs": [
    {
     "data": {
      "text/plain": [
       "<matplotlib.collections.PathCollection at 0x2928ac40be0>"
      ]
     },
     "execution_count": 114,
     "metadata": {},
     "output_type": "execute_result"
    },
    {
     "data": {
      "image/png": "[encoded data removed]",
      "text/plain": [
       "<Figure size 640x480 with 1 Axes>"
      ]
     },
     "metadata": {},
     "output_type": "display_data"
    }
   ],
   "source": [
    "import numpy as np\n",
    "import matplotlib.pyplot as plt\n",
    "\n",
    "# crear las características -\n",
    "X = np.array([-7.0, -4.0, -1.0, 2.0, 5.0, 8.0, 11.0, 14.0])\n",
    "# crear las etiquetas\n",
    "y = np.array([3.0, 6.0, 9.0, 12.0, 15.0, 18.0, 21.0, 24.0])\n",
    "\n",
    "# visualizar los datos\n",
    "\n",
    "plt.scatter(X, y)"
   ]
  },
  {
   "cell_type": "markdown",
   "metadata": {},
   "source": [
    "## Shapes de entradas y salidas (X, y)\n",
    "\n"
   ]
  },
  {
   "cell_type": "code",
   "execution_count": 115,
   "metadata": {},
   "outputs": [
    {
     "data": {
      "text/plain": [
       "(<tf.Tensor: shape=(3,), dtype=string, numpy=array([b'bedroom', b'bathroom', b'garage'], dtype=object)>,\n",
       " <tf.Tensor: shape=(1,), dtype=int32, numpy=array([939700])>)"
      ]
     },
     "execution_count": 115,
     "metadata": {},
     "output_type": "execute_result"
    }
   ],
   "source": [
    "# Crear un tensor demo con las caracteristicas para predicción del problema del precio de la casa\n",
    "\n",
    "house_info = tf.constant([\"bedroom\", \"bathroom\", \"garage\"])\n",
    "house_price = tf.constant([939700])\n",
    "\n",
    "house_info, house_price"
   ]
  },
  {
   "cell_type": "code",
   "execution_count": 116,
   "metadata": {},
   "outputs": [
    {
     "data": {
      "text/plain": [
       "(-7.0, 3.0)"
      ]
     },
     "execution_count": 116,
     "metadata": {},
     "output_type": "execute_result"
    }
   ],
   "source": [
    "X[0], y[0]"
   ]
  },
  {
   "cell_type": "code",
   "execution_count": 117,
   "metadata": {},
   "outputs": [
    {
     "data": {
      "text/plain": [
       "((8,), (8,))"
      ]
     },
     "execution_count": 117,
     "metadata": {},
     "output_type": "execute_result"
    }
   ],
   "source": [
    "# shape de los datos creados\n",
    "input_shape = X.shape\n",
    "output_shape = y.shape\n",
    "input_shape, output_shape"
   ]
  },
  {
   "cell_type": "code",
   "execution_count": 118,
   "metadata": {},
   "outputs": [
    {
     "data": {
      "text/plain": [
       "(<tf.Tensor: shape=(8,), dtype=float32, numpy=array([-7., -4., -1.,  2.,  5.,  8., 11., 14.], dtype=float32)>,\n",
       " <tf.Tensor: shape=(8,), dtype=float32, numpy=array([ 3.,  6.,  9., 12., 15., 18., 21., 24.], dtype=float32)>)"
      ]
     },
     "execution_count": 118,
     "metadata": {},
     "output_type": "execute_result"
    }
   ],
   "source": [
    "# Convertir los array de NumPy a tensores de TensorFlow\n",
    "\n",
    "X = tf.cast(tf.constant(X), dtype=tf.float32)\n",
    "y = tf.cast(tf.constant(y), dtype=tf.float32)\n",
    "X, y"
   ]
  },
  {
   "cell_type": "code",
   "execution_count": 119,
   "metadata": {},
   "outputs": [
    {
     "data": {
      "text/plain": [
       "(TensorShape([]), TensorShape([]))"
      ]
     },
     "execution_count": 119,
     "metadata": {},
     "output_type": "execute_result"
    }
   ],
   "source": [
    "# shape de los datos convertidos a tensores\n",
    "input_shape = X[0].shape\n",
    "output_shape = y[0].shape\n",
    "input_shape, output_shape"
   ]
  },
  {
   "cell_type": "code",
   "execution_count": 120,
   "metadata": {},
   "outputs": [
    {
     "data": {
      "text/plain": [
       "<matplotlib.collections.PathCollection at 0x2928bdf1fd0>"
      ]
     },
     "execution_count": 120,
     "metadata": {},
     "output_type": "execute_result"
    },
    {
     "data": {
      "image/png": "[encoded data removed]",
      "text/plain": [
       "<Figure size 640x480 with 1 Axes>"
      ]
     },
     "metadata": {},
     "output_type": "display_data"
    }
   ],
   "source": [
    "plt.scatter(X, y)"
   ]
  },
  {
   "cell_type": "markdown",
   "metadata": {},
   "source": [
    "## Pasos para crear un modelo utilizando Tensorflow\n",
    "\n",
    "1. **Crear un modelo** - Definir la arquitectura de la red neuronal: \n",
    "    - Capas de entrada\n",
    "    - Capas ocultas\n",
    "    - Capas de salida\n",
    "2. **Compilar el modelo** - Definir la función de perdida, el optimizador y las métricas de evaluación. \n",
    "3. **Entrenar el modelo** - Ajustar el modelo a los datos de entrenamiento. (X,y) o (Features, Labels)"
   ]
  },
  {
   "cell_type": "code",
   "execution_count": 121,
   "metadata": {},
   "outputs": [
    {
     "name": "stdout",
     "output_type": "stream",
     "text": [
      "Epoch 1/10\n",
      "1/1 [==============================] - 0s 173ms/step - loss: 11.5048 - mae: 11.5048\n",
      "Epoch 2/10\n",
      "1/1 [==============================] - 0s 6ms/step - loss: 11.3723 - mae: 11.3723\n",
      "Epoch 3/10\n",
      "1/1 [==============================] - 0s 5ms/step - loss: 11.2398 - mae: 11.2398\n",
      "Epoch 4/10\n",
      "1/1 [==============================] - 0s 5ms/step - loss: 11.1073 - mae: 11.1073\n",
      "Epoch 5/10\n",
      "1/1 [==============================] - 0s 6ms/step - loss: 10.9748 - mae: 10.9748\n",
      "Epoch 6/10\n",
      "1/1 [==============================] - 0s 6ms/step - loss: 10.8423 - mae: 10.8423\n",
      "Epoch 7/10\n",
      "1/1 [==============================] - 0s 4ms/step - loss: 10.7098 - mae: 10.7098\n",
      "Epoch 8/10\n",
      "1/1 [==============================] - 0s 4ms/step - loss: 10.5773 - mae: 10.5773\n",
      "Epoch 9/10\n",
      "1/1 [==============================] - 0s 5ms/step - loss: 10.4448 - mae: 10.4448\n",
      "Epoch 10/10\n",
      "1/1 [==============================] - 0s 4ms/step - loss: 10.3123 - mae: 10.3123\n",
      "1/1 [==============================] - 0s 72ms/step - loss: 10.1798 - mae: 10.1798\n"
     ]
    },
    {
     "data": {
      "text/plain": [
       "[10.179789543151855, 10.179789543151855]"
      ]
     },
     "execution_count": 121,
     "metadata": {},
     "output_type": "execute_result"
    }
   ],
   "source": [
    "# Set the random seed\n",
    "tf.random.set_seed(42)\n",
    "# 1. Crear un modelo usando la API secuencial\n",
    "model = tf.keras.Sequential([\n",
    "    tf.keras.layers.Dense(1)\n",
    "])\n",
    "\n",
    "# 2. Compilar el modelo\n",
    "model.compile(loss=tf.keras.losses.mae,\n",
    "              optimizer=tf.keras.optimizers.SGD(),\n",
    "              metrics=[\"mae\"])\n",
    "\n",
    "# 3. Entrenar el modelo\n",
    "#history = model.fit(X, y, epochs=5)\n",
    "history = model.fit(tf.expand_dims(X, axis=-1), y, epochs=10) # <- updated line\n",
    "\n",
    "# 4. Evaluar el modelo\n",
    "model.evaluate(X, y)"
   ]
  },
  {
   "cell_type": "code",
   "execution_count": 122,
   "metadata": {},
   "outputs": [
    {
     "name": "stdout",
     "output_type": "stream",
     "text": [
      "Model: \"sequential_4\"\n",
      "_________________________________________________________________\n",
      "Layer (type)                 Output Shape              Param #   \n",
      "=================================================================\n",
      "dense (Dense)                (None, 1)                 2         \n",
      "=================================================================\n",
      "Total params: 2\n",
      "Trainable params: 2\n",
      "Non-trainable params: 0\n",
      "_________________________________________________________________\n"
     ]
    }
   ],
   "source": [
    "model.summary()"
   ]
  },
  {
   "cell_type": "code",
   "execution_count": 123,
   "metadata": {},
   "outputs": [
    {
     "data": {
      "text/plain": [
       "Text(0.5, 0, 'epochs')"
      ]
     },
     "execution_count": 123,
     "metadata": {},
     "output_type": "execute_result"
    },
    {
     "data": {
      "image/png": "[encoded data removed]",
      "text/plain": [
       "<Figure size 640x480 with 1 Axes>"
      ]
     },
     "metadata": {},
     "output_type": "display_data"
    }
   ],
   "source": [
    "# Graficar el historico del entrenamiento del modelo \n",
    "import pandas as pd\n",
    "pd.DataFrame(history.history).plot()\n",
    "plt.ylabel(\"loss\")\n",
    "plt.xlabel(\"epochs\")\n"
   ]
  },
  {
   "cell_type": "code",
   "execution_count": 124,
   "metadata": {},
   "outputs": [
    {
     "data": {
      "text/plain": [
       "(<tf.Tensor: shape=(8,), dtype=float32, numpy=array([-7., -4., -1.,  2.,  5.,  8., 11., 14.], dtype=float32)>,\n",
       " <tf.Tensor: shape=(8,), dtype=float32, numpy=array([ 3.,  6.,  9., 12., 15., 18., 21., 24.], dtype=float32)>)"
      ]
     },
     "execution_count": 124,
     "metadata": {},
     "output_type": "execute_result"
    }
   ],
   "source": [
    "# Recordemos los valores de X y y\n",
    "X, y"
   ]
  },
  {
   "cell_type": "code",
   "execution_count": 125,
   "metadata": {},
   "outputs": [
    {
     "data": {
      "text/plain": [
       "array([[15.741023]], dtype=float32)"
      ]
     },
     "execution_count": 125,
     "metadata": {},
     "output_type": "execute_result"
    }
   ],
   "source": [
    "# Realizar una predicción con el modelo entrenado\n",
    "# Para 17.0 el valor esperado es 27.0. El resultado de la evaluación del modelo muestra un error MAE de 10.18\n",
    "# Por lo tanto la predicción del modelo presenta un error cercano al valor resultante del MAE. \n",
    "\n",
    "y_pred = model.predict([17.0])\n",
    "y_pred"
   ]
  },
  {
   "cell_type": "markdown",
   "metadata": {},
   "source": [
    "## Mejorando el desempaño del modelo\n",
    "\n",
    "Para mejorar el desempeño del modelo se pueden realizar las siguientes acciones:\n",
    "\n",
    "- **Aumentar el número de neuronas en las capas ocultas** - Aumentar el número de neuronas en las capas ocultas puede ayudar a que el modelo aprenda patrones más complejos.\n",
    "- **Aumentar el número de capas ocultas** - Aumentar el número de capas ocultas puede ayudar a que el modelo aprenda patrones más complejos.\n",
    "- **Cambiar la función de activación** - Cambiar la función de activación puede ayudar a que el modelo aprenda patrones más complejos.\n",
    "- **Cambiar el optimizador** - Cambiar el optimizador puede ayudar a que el modelo converja más rápido.\n",
    "- **Aumentar el número de epochs** - Aumentar el número de epochs puede ayudar a que el modelo aprenda patrones más complejos.\n",
    "- **Aumentar el tamaño del batch** - Aumentar el tamaño del batch puede ayudar a que el modelo aprenda patrones más complejos.\n",
    "- **Aumentar el tamaño de los datos de entrenamiento** - Aumentar el tamaño de los datos de entrenamiento puede ayudar a que el modelo aprenda patrones más complejos.\n",
    "- **Aumentar el tamaño de los datos de validación** - Aumentar el tamaño de los datos de validación puede ayudar a que el modelo aprenda patrones más complejos.\n",
    "- **Aumentar el tamaño de los datos de prueba** - Aumentar el tamaño de los datos de prueba puede ayudar a que el modelo aprenda patrones más complejos.\n"
   ]
  },
  {
   "cell_type": "markdown",
   "metadata": {},
   "source": [
    "### :lab_coat: Experimento 1. \n",
    "\n",
    "- Aumentar el número de epocas (epochs)"
   ]
  },
  {
   "cell_type": "code",
   "execution_count": 126,
   "metadata": {},
   "outputs": [
    {
     "name": "stdout",
     "output_type": "stream",
     "text": [
      "1/1 [==============================] - 0s 66ms/step - loss: 6.8813 - mae: 6.8813\n"
     ]
    },
    {
     "data": {
      "text/plain": [
       "[6.881250381469727, 6.881250381469727]"
      ]
     },
     "execution_count": 126,
     "metadata": {},
     "output_type": "execute_result"
    }
   ],
   "source": [
    "# 1. Crear un modelo\n",
    "tf.keras.backend.clear_session()\n",
    "\n",
    "model = tf.keras.Sequential([\n",
    "    tf.keras.layers.Dense(1)\n",
    "])\n",
    "\n",
    "# 2. Compilar el modelo\n",
    "model.compile(loss = tf.keras.losses.mae,\n",
    "              optimizer = tf.keras.optimizers.SGD(),\n",
    "                metrics = [\"mae\"])\n",
    "\n",
    "# 3. Entrenar el modelo\n",
    "history = model.fit(tf.expand_dims(X, axis=-1), y, epochs=100, verbose = 0)\n",
    "\n",
    "# 4. Evaluar el modelo\n",
    "model.evaluate(tf.expand_dims(X, axis=-1), y)"
   ]
  },
  {
   "cell_type": "code",
   "execution_count": 127,
   "metadata": {},
   "outputs": [
    {
     "data": {
      "text/plain": [
       "array([[29.739855]], dtype=float32)"
      ]
     },
     "execution_count": 127,
     "metadata": {},
     "output_type": "execute_result"
    }
   ],
   "source": [
    "# Realizar una predicción con el modelo entrenado\n",
    "# Para 17.0 el valor esperado es 27.0. El resultado de la evaluación del modelo muestra un error MAE de 6.88\n",
    "# Por lo tanto la predicción del modelo presenta un error cercano al valor resultante del MAE. \n",
    "\n",
    "y_pred = model.predict([17.0])\n",
    "y_pred"
   ]
  },
  {
   "cell_type": "markdown",
   "metadata": {},
   "source": [
    "### :lab_coat: Experimento 2. \n",
    "\n",
    "- Aumentar el número de capas ocultas\n",
    "- Aumentar el número de neuronas en las capas ocultas"
   ]
  },
  {
   "cell_type": "code",
   "execution_count": 128,
   "metadata": {},
   "outputs": [
    {
     "name": "stdout",
     "output_type": "stream",
     "text": [
      "1/1 [==============================] - 0s 72ms/step - loss: 4.9488 - mae: 4.9488\n"
     ]
    },
    {
     "data": {
      "text/plain": [
       "[4.948764801025391, 4.948764801025391]"
      ]
     },
     "execution_count": 128,
     "metadata": {},
     "output_type": "execute_result"
    }
   ],
   "source": [
    "# 1. Crear un modelo\n",
    "tf.keras.backend.clear_session()\n",
    "tf.random.set_seed(42)\n",
    "\n",
    "\n",
    "model = tf.keras.Sequential([\n",
    "    tf.keras.layers.Dense(100),\n",
    "    tf.keras.layers.Dense(1)\n",
    "])\n",
    "\n",
    "# 2. Compilar el modelo\n",
    "model.compile(loss = tf.keras.losses.mae,\n",
    "              optimizer = tf.keras.optimizers.SGD(),\n",
    "                metrics = [\"mae\"])\n",
    "\n",
    "# 3. Entrenar el modelo\n",
    "history = model.fit(tf.expand_dims(X, axis=-1), y, epochs=100, verbose = 0)\n",
    "\n",
    "# 4. Evaluar el modelo\n",
    "model.evaluate(tf.expand_dims(X, axis=-1), y)"
   ]
  },
  {
   "cell_type": "markdown",
   "metadata": {},
   "source": [
    "### :lab_coat: Experimento 3. \n",
    "\n",
    "- Aumentar el número de capas ocultas\n",
    "- Aumentar el número de neuronas en las capas ocultas\n",
    "- Seleccionar una función de activación diferente - ReLU"
   ]
  },
  {
   "cell_type": "code",
   "execution_count": 129,
   "metadata": {},
   "outputs": [
    {
     "name": "stdout",
     "output_type": "stream",
     "text": [
      "1/1 [==============================] - 0s 70ms/step - loss: 3.6933 - mae: 3.6933\n"
     ]
    },
    {
     "data": {
      "text/plain": [
       "[3.6933133602142334, 3.6933133602142334]"
      ]
     },
     "execution_count": 129,
     "metadata": {},
     "output_type": "execute_result"
    }
   ],
   "source": [
    "# 1. Crear un modelo\n",
    "tf.keras.backend.clear_session()\n",
    "tf.random.set_seed(42)\n",
    "\n",
    "\n",
    "model = tf.keras.Sequential([\n",
    "    tf.keras.layers.Dense(100, activation = 'relu'),\n",
    "    tf.keras.layers.Dense(1)\n",
    "])\n",
    "\n",
    "# 2. Compilar el modelo\n",
    "model.compile(loss = tf.keras.losses.mae,\n",
    "              optimizer = tf.keras.optimizers.SGD(),\n",
    "                metrics = [\"mae\"])\n",
    "\n",
    "# 3. Entrenar el modelo\n",
    "history = model.fit(tf.expand_dims(X, axis=-1), y, epochs=100, verbose = 0)\n",
    "\n",
    "# 4. Evaluar el modelo\n",
    "model.evaluate(tf.expand_dims(X, axis=-1), y)"
   ]
  },
  {
   "cell_type": "markdown",
   "metadata": {},
   "source": [
    "### :lab_coat: Experimento 4.\n",
    "\n",
    "- Aumentar el número de capas ocultas\n",
    "- Aumentar el número de neuronas en las capas ocultas\n",
    "- Seleccionar una función de activación diferente - ReLU\n",
    "- Cambiar el optimizador SGD a Adam con lr=0.01"
   ]
  },
  {
   "cell_type": "code",
   "execution_count": 130,
   "metadata": {},
   "outputs": [
    {
     "name": "stdout",
     "output_type": "stream",
     "text": [
      "1/1 [==============================] - 0s 71ms/step - loss: 0.1605 - mae: 0.1605\n"
     ]
    },
    {
     "data": {
      "text/plain": [
       "[0.16051650047302246, 0.16051650047302246]"
      ]
     },
     "execution_count": 130,
     "metadata": {},
     "output_type": "execute_result"
    }
   ],
   "source": [
    "# 1. Crear un modelo\n",
    "tf.keras.backend.clear_session()\n",
    "tf.random.set_seed(42)\n",
    "\n",
    "\n",
    "model = tf.keras.Sequential([\n",
    "    tf.keras.layers.Dense(50, activation = None),\n",
    "    \n",
    "    tf.keras.layers.Dense(1)\n",
    "])\n",
    "\n",
    "# 2. Compilar el modelo\n",
    "model.compile(loss = tf.keras.losses.mae,\n",
    "              optimizer = tf.keras.optimizers.Adam(learning_rate=0.01),\n",
    "                metrics = [\"mae\"])\n",
    "\n",
    "# 3. Entrenar el modelo\n",
    "history = model.fit(tf.expand_dims(X, axis=-1), y, epochs=100, verbose = 0)\n",
    "\n",
    "# 4. Evaluar el modelo\n",
    "model.evaluate(tf.expand_dims(X, axis=-1), y)"
   ]
  },
  {
   "cell_type": "code",
   "execution_count": 131,
   "metadata": {},
   "outputs": [
    {
     "data": {
      "text/plain": [
       "array([[27.217045]], dtype=float32)"
      ]
     },
     "execution_count": 131,
     "metadata": {},
     "output_type": "execute_result"
    }
   ],
   "source": [
    "# Realizar una predicción con el modelo entrenado\n",
    "# Para 17.0 el valor esperado es 27.0. El resultado de la evaluación del modelo muestra un error MAE de 0.16\n",
    "# Por lo tanto la predicción del modelo presenta un error cercano al valor resultante del MAE. \n",
    "\n",
    "y_pred = model.predict([17.0])\n",
    "y_pred"
   ]
  },
  {
   "cell_type": "markdown",
   "metadata": {},
   "source": [
    "### :lab_coat: Experimento 5.\n",
    "\n",
    "- Aumentar el número de capas ocultas (3)\n",
    "- Aumentar el número de neuronas en las capas ocultas\n",
    "- Seleccionar una función de activación diferente - ReLU\n",
    "- Cambiar el optimizador SGD a Adam con lr= 0.01"
   ]
  },
  {
   "cell_type": "code",
   "execution_count": 132,
   "metadata": {},
   "outputs": [
    {
     "name": "stdout",
     "output_type": "stream",
     "text": [
      "1/1 [==============================] - 0s 78ms/step - loss: 1.0925 - mae: 1.0925\n"
     ]
    },
    {
     "data": {
      "text/plain": [
       "[1.092536449432373, 1.092536449432373]"
      ]
     },
     "execution_count": 132,
     "metadata": {},
     "output_type": "execute_result"
    }
   ],
   "source": [
    "# 1. Crear un modelo\n",
    "tf.keras.backend.clear_session()\n",
    "tf.random.set_seed(42)\n",
    "\n",
    "model = tf.keras.Sequential([\n",
    "    tf.keras.layers.Dense(100, activation = 'relu'),\n",
    "    tf.keras.layers.Dense(100, activation = 'relu'),\n",
    "    tf.keras.layers.Dense(100, activation = 'relu'),\n",
    "    tf.keras.layers.Dense(1)\n",
    "])\n",
    "\n",
    "# 2. Compilar el modelo\n",
    "model.compile(loss = tf.keras.losses.mae,\n",
    "              optimizer = tf.keras.optimizers.Adam(learning_rate=0.01),\n",
    "                metrics = [\"mae\"])\n",
    "\n",
    "# 3. Entrenar el modelo\n",
    "history = model.fit(tf.expand_dims(X, axis=-1), y, epochs=100, verbose = 0)\n",
    "\n",
    "# 4. Evaluar el modelo\n",
    "model.evaluate(tf.expand_dims(X, axis=-1), y)"
   ]
  },
  {
   "cell_type": "code",
   "execution_count": 133,
   "metadata": {},
   "outputs": [
    {
     "data": {
      "text/plain": [
       "array([[24.910385]], dtype=float32)"
      ]
     },
     "execution_count": 133,
     "metadata": {},
     "output_type": "execute_result"
    }
   ],
   "source": [
    "# Realizar una predicción con el modelo entrenado\n",
    "# Para 17.0 el valor esperado es 27.0. El resultado de la evaluación del modelo muestra un error MAE de 6.88\n",
    "# Por lo tanto la predicción del modelo presenta un error cercano al valor resultante del MAE. \n",
    "\n",
    "y_pred = model.predict([17.0])\n",
    "y_pred"
   ]
  },
  {
   "cell_type": "markdown",
   "metadata": {},
   "source": [
    "## Evaluación del modelo\n",
    "\n",
    "En practica, el workflow típico cuando se construye una red neuronal es:\n",
    "\n",
    "```\n",
    "Crear un modelo -> Compilar el modelo -> Entrenar el modelo -> Evaluar el modelo -> Ajustar el modelo \n",
    "Entrenar el modelo -> Evaluar el modelo -> Ajustar el modelo ...\n",
    "```\n",
    "\n",
    "> Cuando se evalua un modelo es importante la visualización de los resultados.\n",
    "\n",
    "- Visualización de los datos de entrenamiento y validación\n",
    "- Visualización de la estructura del modelo\n",
    "- Visualización de los resultados de entrenamiento y validación\n",
    "- Visualización de los resultados de prueba\n",
    "- Visualización de las predicciones"
   ]
  },
  {
   "cell_type": "code",
   "execution_count": 134,
   "metadata": {},
   "outputs": [
    {
     "data": {
      "text/plain": [
       "<tf.Tensor: shape=(50,), dtype=int32, numpy=\n",
       "array([-100,  -96,  -92,  -88,  -84,  -80,  -76,  -72,  -68,  -64,  -60,\n",
       "        -56,  -52,  -48,  -44,  -40,  -36,  -32,  -28,  -24,  -20,  -16,\n",
       "        -12,   -8,   -4,    0,    4,    8,   12,   16,   20,   24,   28,\n",
       "         32,   36,   40,   44,   48,   52,   56,   60,   64,   68,   72,\n",
       "         76,   80,   84,   88,   92,   96])>"
      ]
     },
     "execution_count": 134,
     "metadata": {},
     "output_type": "execute_result"
    }
   ],
   "source": [
    "# Crear un dataset mas grande\n",
    "\n",
    "X = tf.range(-100, 100, 4)\n",
    "X"
   ]
  },
  {
   "cell_type": "code",
   "execution_count": 135,
   "metadata": {},
   "outputs": [
    {
     "data": {
      "text/plain": [
       "<tf.Tensor: shape=(50,), dtype=int32, numpy=\n",
       "array([-90, -86, -82, -78, -74, -70, -66, -62, -58, -54, -50, -46, -42,\n",
       "       -38, -34, -30, -26, -22, -18, -14, -10,  -6,  -2,   2,   6,  10,\n",
       "        14,  18,  22,  26,  30,  34,  38,  42,  46,  50,  54,  58,  62,\n",
       "        66,  70,  74,  78,  82,  86,  90,  94,  98, 102, 106])>"
      ]
     },
     "execution_count": 135,
     "metadata": {},
     "output_type": "execute_result"
    }
   ],
   "source": [
    "# Crear Labels para el dataset\n",
    "\n",
    "y = X + 10\n",
    "y"
   ]
  },
  {
   "cell_type": "code",
   "execution_count": 136,
   "metadata": {},
   "outputs": [
    {
     "data": {
      "text/plain": [
       "<matplotlib.collections.PathCollection at 0x2928e267040>"
      ]
     },
     "execution_count": 136,
     "metadata": {},
     "output_type": "execute_result"
    },
    {
     "data": {
      "image/png": "[encoded data removed]",
      "text/plain": [
       "<Figure size 640x480 with 1 Axes>"
      ]
     },
     "metadata": {},
     "output_type": "display_data"
    }
   ],
   "source": [
    "plt.scatter(X, y)"
   ]
  },
  {
   "cell_type": "markdown",
   "metadata": {},
   "source": [
    "### Los 3 tipos de split de datos...\n",
    "\n",
    "- **Entrenamiento** (Training Set) - El conjunto de datos que se utiliza para entrenar el modelo. Se asigna entre el 70 - 80% de los datos.\n",
    "- **Validación** (Validation Set) - El conjunto de datos que se utiliza para evaluar el modelo durante el entrenamiento. Se asigna entre el 10 - 20% de los datos.\n",
    "- **Prueba** (Test Set)- El conjunto de datos que se utiliza para evaluar el modelo después del entrenamiento. Se asigna entre el 10 - 20% de los datos.\n"
   ]
  },
  {
   "cell_type": "code",
   "execution_count": 137,
   "metadata": {},
   "outputs": [
    {
     "data": {
      "text/plain": [
       "50"
      ]
     },
     "execution_count": 137,
     "metadata": {},
     "output_type": "execute_result"
    }
   ],
   "source": [
    "len(X)"
   ]
  },
  {
   "cell_type": "code",
   "execution_count": 138,
   "metadata": {},
   "outputs": [
    {
     "data": {
      "text/plain": [
       "(40, 10, 40, 10)"
      ]
     },
     "execution_count": 138,
     "metadata": {},
     "output_type": "execute_result"
    }
   ],
   "source": [
    "# Separar el dataset en train y test\n",
    "\n",
    "X_train = X[:40]\n",
    "y_train = y[:40]\n",
    "\n",
    "X_test = X[40:]\n",
    "y_test = y[40:]\n",
    "\n",
    "len(X_train), len(X_test), len(y_train), len(y_test)"
   ]
  },
  {
   "cell_type": "markdown",
   "metadata": {},
   "source": [
    "### Visualizar el dataset\n",
    "\n",
    "Visualizar el dataset es una buena práctica para entender los datos y los patrones que se pueden encontrar en ellos."
   ]
  },
  {
   "cell_type": "code",
   "execution_count": 139,
   "metadata": {},
   "outputs": [
    {
     "data": {
      "image/png": "[encoded data removed]",
      "text/plain": [
       "<Figure size 700x500 with 1 Axes>"
      ]
     },
     "metadata": {},
     "output_type": "display_data"
    }
   ],
   "source": [
    "plt.figure(figsize=(7, 5))\n",
    "# Plot training data in blue\n",
    "plt.scatter(X_train, y_train, c='b', label='Training data')\n",
    "\n",
    "# Plot test data in green\n",
    "plt.scatter(X_test, y_test, c='g', label='Testing data')\n",
    "\n",
    "# Show a legend\n",
    "plt.legend();"
   ]
  },
  {
   "cell_type": "code",
   "execution_count": 140,
   "metadata": {},
   "outputs": [],
   "source": [
    "# 1. Crear un modelo\n",
    "tf.keras.backend.clear_session()\n",
    "\n",
    "tf.random.set_seed(42)\n",
    "\n",
    "# Es necesario definir el input_shape en la primera capa del modelo para que el modelo sepa que esperar de los datos de entrada. \n",
    "model = tf.keras.Sequential([\n",
    "    tf.keras.layers.Dense(50, activation = 'relu', input_shape=[1], name = 'hidden_layer'),\n",
    "    tf.keras.layers.Dense(1, name = 'output_layer')\n",
    "])\n",
    "\n",
    "# 2. Compilar el modelo\n",
    "model.compile(loss = tf.keras.losses.mae,\n",
    "              optimizer = tf.keras.optimizers.Adam(learning_rate=0.01),\n",
    "              metrics = [\"mae\"])"
   ]
  },
  {
   "cell_type": "code",
   "execution_count": 141,
   "metadata": {},
   "outputs": [
    {
     "name": "stdout",
     "output_type": "stream",
     "text": [
      "Model: \"sequential\"\n",
      "_________________________________________________________________\n",
      "Layer (type)                 Output Shape              Param #   \n",
      "=================================================================\n",
      "hidden_layer (Dense)         (None, 50)                100       \n",
      "_________________________________________________________________\n",
      "output_layer (Dense)         (None, 1)                 51        \n",
      "=================================================================\n",
      "Total params: 151\n",
      "Trainable params: 151\n",
      "Non-trainable params: 0\n",
      "_________________________________________________________________\n"
     ]
    }
   ],
   "source": [
    "model.summary()"
   ]
  },
  {
   "cell_type": "markdown",
   "metadata": {},
   "source": [
    "* Total params - Número total de parámetros del modelo.\n",
    "* Trainable params - Número de parámetros que se pueden actualizar durante el entrenamiento.\n",
    "* Non-trainable params - Número de parámetros que no se pueden actualizar durante el entrenamiento. (Se utiliza comumente para transfer learning)."
   ]
  },
  {
   "cell_type": "code",
   "execution_count": 142,
   "metadata": {},
   "outputs": [
    {
     "data": {
      "image/png": "[encoded data removed]",
      "text/plain": [
       "<IPython.core.display.Image object>"
      ]
     },
     "execution_count": 142,
     "metadata": {},
     "output_type": "execute_result"
    }
   ],
   "source": [
    "from tensorflow.keras.utils import plot_model\n",
    "\n",
    "plot_model(model,show_shapes=True)\n"
   ]
  },
  {
   "cell_type": "code",
   "execution_count": 143,
   "metadata": {},
   "outputs": [],
   "source": [
    "# 3. Entrenar el modelo\n",
    "history = model.fit(X_train, y_train, epochs=100, verbose = 0)"
   ]
  },
  {
   "cell_type": "code",
   "execution_count": 144,
   "metadata": {},
   "outputs": [
    {
     "data": {
      "image/png": "[encoded data removed]",
      "text/plain": [
       "<Figure size 640x480 with 1 Axes>"
      ]
     },
     "metadata": {},
     "output_type": "display_data"
    }
   ],
   "source": [
    "pd.DataFrame(history.history).plot()\n",
    "plt.ylabel(\"loss\")\n",
    "plt.xlabel(\"epochs\");"
   ]
  },
  {
   "cell_type": "markdown",
   "metadata": {},
   "source": [
    "### Visualizar las predicciones del modelo"
   ]
  },
  {
   "cell_type": "code",
   "execution_count": 145,
   "metadata": {},
   "outputs": [],
   "source": [
    "# Realizar una predicción con el modelo entrenado\n",
    "y_pred = model.predict(X_test)"
   ]
  },
  {
   "cell_type": "code",
   "execution_count": 146,
   "metadata": {},
   "outputs": [],
   "source": [
    "# Crear una función para visualizar los resultados de la predicción\n",
    "\n",
    "def plot_predictions(train_data = X_train, train_labels = y_train, test_data = X_test, test_labels = y_test, predictions = y_pred):\n",
    "    plt.figure(figsize=(7, 5))\n",
    "    # Plot training data in blue\n",
    "    plt.scatter(train_data, train_labels, c='b', label='Training data')\n",
    "\n",
    "    # Plot test data in green\n",
    "    plt.scatter(test_data, test_labels, c='g', label='Testing data')\n",
    "\n",
    "    # Plot the model's predictions in red\n",
    "    plt.scatter(test_data, predictions, c='r', label='Predictions')\n",
    "\n",
    "    # Show a legend\n",
    "    plt.legend();"
   ]
  },
  {
   "cell_type": "code",
   "execution_count": 147,
   "metadata": {},
   "outputs": [
    {
     "data": {
      "image/png": "[encoded data removed]",
      "text/plain": [
       "<Figure size 700x500 with 1 Axes>"
      ]
     },
     "metadata": {},
     "output_type": "display_data"
    }
   ],
   "source": [
    "plot_predictions(X_train, y_train, X_test, y_test, y_pred)"
   ]
  },
  {
   "cell_type": "markdown",
   "metadata": {},
   "source": [
    "## Evaluación de las predicciones\n",
    "\n",
    "Dependiendo del problema que se este resolviendo, se puede utilizar una métrica de evaluación diferente.\n",
    "\n",
    "Dado que estamos trabajando con regresión, las métricas de evaluación que se pueden utilizar son:\n",
    "\n",
    "- **Mean Absolute Error (MAE)** - Es la media del valor absoluto de los errores. Es la métrica más fácil de entender, ya que es el error promedio.\n",
    "- **Mean Squared Error (MSE)** - Es la media de los errores al cuadrado. MSE es más popular que MAE, ya que MSE \"castiga\" los errores más grandes, lo que tiende a ser útil en el mundo real.\n",
    "- **Root Mean Squared Error (RMSE)** - Es la raíz cuadrada de la media de los errores al cuadrado. Es interpretable en las mismas unidades que los objetivos.\n",
    "- **Huber** - Es similar a MSE, pero no es tan sensible a los errores extremos en los datos.\n",
    "\n",
    "<a href=\"\"><img src=\"https://tinyurl.com/2mk4al2n\" alt=\"metrics\" border=\"0\"></a>\n",
    "<a href=\"https://ibb.co/b3pMH2W\"><img src=\"https://i.ibb.co/j57PVW6/imagen-2022-12-03-215713895.png\" alt=\"imagen-2022-12-03-215713895\" border=\"0\"></a>\n"
   ]
  },
  {
   "cell_type": "code",
   "execution_count": 148,
   "metadata": {},
   "outputs": [
    {
     "name": "stdout",
     "output_type": "stream",
     "text": [
      "1/1 [==============================] - 0s 72ms/step - loss: 1.6859 - mae: 1.6859\n"
     ]
    },
    {
     "data": {
      "text/plain": [
       "[1.685888648033142, 1.685888648033142]"
      ]
     },
     "execution_count": 148,
     "metadata": {},
     "output_type": "execute_result"
    }
   ],
   "source": [
    "# 4. Evaluar el modelo\n",
    "model.evaluate(X_test, y_test)"
   ]
  },
  {
   "cell_type": "code",
   "execution_count": 149,
   "metadata": {},
   "outputs": [
    {
     "data": {
      "text/plain": [
       "(<tf.Tensor: shape=(10, 1), dtype=float32, numpy=\n",
       " array([[ 71.16125 ],\n",
       "        [ 75.265205],\n",
       "        [ 79.369156],\n",
       "        [ 83.47312 ],\n",
       "        [ 87.590416],\n",
       "        [ 91.72693 ],\n",
       "        [ 95.86344 ],\n",
       "        [ 99.99995 ],\n",
       "        [104.13645 ],\n",
       "        [108.27297 ]], dtype=float32)>,\n",
       " <tf.Tensor: shape=(10,), dtype=int32, numpy=array([ 70,  74,  78,  82,  86,  90,  94,  98, 102, 106])>)"
      ]
     },
     "execution_count": 149,
     "metadata": {},
     "output_type": "execute_result"
    }
   ],
   "source": [
    "# El tensor y_pred tiene una dimension extra. Por lo tanto para compararlos es necesario que ambos tengan la misma dimension.\n",
    "# Para ello se utiliza la función squeeze() que elimina las dimensiones de tamaño 1 de un tensor.\n",
    "tf.constant(y_pred), y_test"
   ]
  },
  {
   "cell_type": "code",
   "execution_count": 150,
   "metadata": {},
   "outputs": [
    {
     "data": {
      "text/plain": [
       "(1.6858886, 2.9708648)"
      ]
     },
     "execution_count": 150,
     "metadata": {},
     "output_type": "execute_result"
    }
   ],
   "source": [
    "# Calcular el Mean Squared Error (MSE) y el Mean Absolute Error (MAE)\n",
    "\n",
    "mae = tf.metrics.mean_absolute_error(y_true =y_test, y_pred = tf.squeeze(y_pred))\n",
    "mse = tf.metrics.mean_squared_error(y_true =y_test, y_pred = tf.squeeze(y_pred))\n",
    "mae.numpy(), mse.numpy()"
   ]
  },
  {
   "cell_type": "code",
   "execution_count": 151,
   "metadata": {},
   "outputs": [
    {
     "data": {
      "text/plain": [
       "(1.685888671875, 2.9708649373846128)"
      ]
     },
     "execution_count": 151,
     "metadata": {},
     "output_type": "execute_result"
    }
   ],
   "source": [
    "# Calcular el Mean Squared Error (MSE) y el Mean Absolute Error (MAE) con la función mean_absolute_error() y mean_squared_error() de sklearn\n",
    "\n",
    "from sklearn.metrics import mean_absolute_error, mean_squared_error\n",
    "\n",
    "mae = mean_absolute_error(y_test, y_pred)\n",
    "mse = mean_squared_error(y_test, y_pred)\n",
    "mae, mse"
   ]
  },
  {
   "cell_type": "markdown",
   "metadata": {},
   "source": [
    "## Realizar Experimentos para mejorar el modelo\n",
    "\n",
    "- model_1 - mismo que el original, 1 capa, entrenado con 100 epocas.\n",
    "- model_2 - 2 capas, entrenado con 100 epocas.\n",
    "- model_3 - 2 capas, entrenado con 500 epocas.\n",
    "\n",
    "### :lab_coat: Experimento 1. \n",
    "\n",
    "- model_1 - mismo que el original, 1 capa, entrenado con 100 epocas."
   ]
  },
  {
   "cell_type": "code",
   "execution_count": 152,
   "metadata": {},
   "outputs": [],
   "source": [
    "tf.random.set_seed(42)\n",
    "\n",
    "# 1. Crear un modelo\n",
    "model_1 = tf.keras.Sequential([\n",
    "        tf.keras.layers.Dense(1, name = 'output_layer')\n",
    "])\n",
    "\n",
    "# 2. Compilar el modelo\n",
    "model_1.compile(loss = tf.keras.losses.mae,\n",
    "                optimizer = tf.keras.optimizers.SGD(),\n",
    "                metrics = [\"mae\"])\n",
    "\n",
    "# 3. Entrenar el modelo\n",
    "history = model_1.fit(X_train, y_train, epochs=100, verbose = 0)"
   ]
  },
  {
   "cell_type": "code",
   "execution_count": 153,
   "metadata": {},
   "outputs": [
    {
     "data": {
      "image/png": "[encoded data removed]",
      "text/plain": [
       "<Figure size 700x500 with 1 Axes>"
      ]
     },
     "metadata": {},
     "output_type": "display_data"
    }
   ],
   "source": [
    "# Make and plot predictions for model_1\n",
    "y_preds_1 = model_1.predict(X_test)\n",
    "plot_predictions(predictions=y_preds_1)"
   ]
  },
  {
   "cell_type": "code",
   "execution_count": 154,
   "metadata": {},
   "outputs": [
    {
     "data": {
      "text/plain": [
       "(18.745327, 353.5734)"
      ]
     },
     "execution_count": 154,
     "metadata": {},
     "output_type": "execute_result"
    }
   ],
   "source": [
    "mae_1 = tf.metrics.mean_absolute_error(y_true =y_test, y_pred = tf.squeeze(y_preds_1)).numpy()\n",
    "mse_1 = tf.metrics.mean_squared_error(y_true =y_test, y_pred = tf.squeeze(y_preds_1)).numpy()\n",
    "mae_1, mse_1"
   ]
  },
  {
   "cell_type": "markdown",
   "metadata": {},
   "source": [
    "### :lab_coat: Experimento 2. \n",
    "\n",
    "- model_2 - 2 capas, entrenado con 100 epocas."
   ]
  },
  {
   "cell_type": "code",
   "execution_count": 155,
   "metadata": {},
   "outputs": [],
   "source": [
    "tf.random.set_seed(42)\n",
    "\n",
    "# 1. Crear un modelo\n",
    "model_2 = tf.keras.Sequential([\n",
    "        tf.keras.layers.Dense(50, activation = 'relu', name = 'hidden_layer'),\n",
    "        tf.keras.layers.Dense(1, name = 'output_layer')\n",
    "])\n",
    "\n",
    "# 2. Compilar el modelo\n",
    "model_2.compile(loss = tf.keras.losses.mae,\n",
    "                optimizer = tf.keras.optimizers.Adam(learning_rate=0.01),\n",
    "                metrics = [\"mae\"])\n",
    "\n",
    "# 3. Entrenar el modelo\n",
    "\n",
    "history = model_2.fit(X_train, y_train, epochs=100, verbose = 0)"
   ]
  },
  {
   "cell_type": "code",
   "execution_count": 156,
   "metadata": {},
   "outputs": [
    {
     "data": {
      "image/png": "[encoded data removed]",
      "text/plain": [
       "<Figure size 700x500 with 1 Axes>"
      ]
     },
     "metadata": {},
     "output_type": "display_data"
    }
   ],
   "source": [
    "# Make and plot predictions for model_1\n",
    "y_preds_2 = model_2.predict(X_test)\n",
    "plot_predictions(predictions=y_preds_2)"
   ]
  },
  {
   "cell_type": "code",
   "execution_count": 157,
   "metadata": {},
   "outputs": [
    {
     "data": {
      "text/plain": [
       "(1.6858886, 2.9708648)"
      ]
     },
     "execution_count": 157,
     "metadata": {},
     "output_type": "execute_result"
    }
   ],
   "source": [
    "# metricas del modelo 2 mae, mse\n",
    "\n",
    "mae_2 = tf.metrics.mean_absolute_error(y_true =y_test, y_pred = tf.squeeze(y_preds_2)).numpy()\n",
    "mse_2 = tf.metrics.mean_squared_error(y_true =y_test, y_pred = tf.squeeze(y_preds_2)).numpy()\n",
    "mae_2, mse_2"
   ]
  },
  {
   "cell_type": "markdown",
   "metadata": {},
   "source": [
    "### :lab_coat: Experimento 3. \n",
    "\n",
    "- model_3 - 2 capas, entrenado con 500 epocas."
   ]
  },
  {
   "cell_type": "code",
   "execution_count": 158,
   "metadata": {},
   "outputs": [],
   "source": [
    "tf.random.set_seed(42)\n",
    "\n",
    "# 1. Crear un modelo\n",
    "model_3 = tf.keras.Sequential([\n",
    "        tf.keras.layers.Dense(50, activation = 'relu', name = 'hidden_layer'),\n",
    "        tf.keras.layers.Dense(50, activation = 'relu', name = 'hidden_layer_2'),\n",
    "        tf.keras.layers.Dense(1, name = 'output_layer')\n",
    "])\n",
    "\n",
    "# 2. Compilar el modelo\n",
    "\n",
    "model_3.compile(loss = tf.keras.losses.mae,\n",
    "                optimizer = tf.keras.optimizers.Adam(learning_rate=0.01),\n",
    "                metrics = [\"mae\"])\n",
    "\n",
    "# 3. Entrenar el modelo\n",
    "\n",
    "history = model_3.fit(X_train, y_train, epochs=500, verbose = 0)"
   ]
  },
  {
   "cell_type": "code",
   "execution_count": 159,
   "metadata": {},
   "outputs": [
    {
     "data": {
      "image/png": "[encoded data removed]",
      "text/plain": [
       "<Figure size 700x500 with 1 Axes>"
      ]
     },
     "metadata": {},
     "output_type": "display_data"
    }
   ],
   "source": [
    "y_preds_3 = model_3.predict(X_test)\n",
    "plot_predictions(predictions=y_preds_3)"
   ]
  },
  {
   "cell_type": "code",
   "execution_count": 160,
   "metadata": {},
   "outputs": [
    {
     "data": {
      "text/plain": [
       "(5.9214225, 35.68487)"
      ]
     },
     "execution_count": 160,
     "metadata": {},
     "output_type": "execute_result"
    }
   ],
   "source": [
    "# metricas del modelo 3 mae, mse\n",
    "\n",
    "mae_3 = tf.metrics.mean_absolute_error(y_true =y_test, y_pred = tf.squeeze(y_preds_3)).numpy()\n",
    "mse_3 = tf.metrics.mean_squared_error(y_true =y_test, y_pred = tf.squeeze(y_preds_3)).numpy()\n",
    "mae_3, mse_3"
   ]
  },
  {
   "cell_type": "markdown",
   "metadata": {},
   "source": [
    "### Comparar los resultados de los modelos"
   ]
  },
  {
   "cell_type": "code",
   "execution_count": 161,
   "metadata": {},
   "outputs": [],
   "source": [
    "model_results = [[\"model_1\", mae_1, mse_1],\n",
    "                 [\"model_2\", mae_2, mse_2],\n",
    "                 [\"model_3\", mae_3, mae_3]]"
   ]
  },
  {
   "cell_type": "code",
   "execution_count": 162,
   "metadata": {},
   "outputs": [
    {
     "data": {
      "text/html": [
       "<div>\n",
       "<style scoped>\n",
       "    .dataframe tbody tr th:only-of-type {\n",
       "        vertical-align: middle;\n",
       "    }\n",
       "\n",
       "    .dataframe tbody tr th {\n",
       "        vertical-align: top;\n",
       "    }\n",
       "\n",
       "    .dataframe thead th {\n",
       "        text-align: right;\n",
       "    }\n",
       "</style>\n",
       "<table border=\"1\" class=\"dataframe\">\n",
       "  <thead>\n",
       "    <tr style=\"text-align: right;\">\n",
       "      <th></th>\n",
       "      <th>model</th>\n",
       "      <th>mae</th>\n",
       "      <th>mse</th>\n",
       "    </tr>\n",
       "  </thead>\n",
       "  <tbody>\n",
       "    <tr>\n",
       "      <th>0</th>\n",
       "      <td>model_1</td>\n",
       "      <td>18.745327</td>\n",
       "      <td>353.573395</td>\n",
       "    </tr>\n",
       "    <tr>\n",
       "      <th>1</th>\n",
       "      <td>model_2</td>\n",
       "      <td>1.685889</td>\n",
       "      <td>2.970865</td>\n",
       "    </tr>\n",
       "    <tr>\n",
       "      <th>2</th>\n",
       "      <td>model_3</td>\n",
       "      <td>5.921422</td>\n",
       "      <td>5.921422</td>\n",
       "    </tr>\n",
       "  </tbody>\n",
       "</table>\n",
       "</div>"
      ],
      "text/plain": [
       "     model        mae         mse\n",
       "0  model_1  18.745327  353.573395\n",
       "1  model_2   1.685889    2.970865\n",
       "2  model_3   5.921422    5.921422"
      ]
     },
     "execution_count": 162,
     "metadata": {},
     "output_type": "execute_result"
    }
   ],
   "source": [
    "import pandas as pd\n",
    "all_results = pd.DataFrame(model_results, columns=[\"model\", \"mae\", \"mse\"])\n",
    "all_results"
   ]
  },
  {
   "cell_type": "markdown",
   "metadata": {},
   "source": [
    "## Guardar y cargar un modelo"
   ]
  }
 ],
 "metadata": {
  "kernelspec": {
   "display_name": "Python 3.9.13 ('gpu')",
   "language": "python",
   "name": "python3"
  },
  "language_info": {
   "codemirror_mode": {
    "name": "ipython",
    "version": 3
   },
   "file_extension": ".py",
   "mimetype": "text/x-python",
   "name": "python",
   "nbconvert_exporter": "python",
   "pygments_lexer": "ipython3",
   "version": "3.9.13"
  },
  "orig_nbformat": 4,
  "vscode": {
   "interpreter": {
    "hash": "8173103b97bf613cde717d81021a4a8a77760fbef76bd6423549d26b1e1d3fec"
   }
  }
 },
 "nbformat": 4,
 "nbformat_minor": 2
}

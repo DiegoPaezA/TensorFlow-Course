{
 "cells": [
  {
   "cell_type": "markdown",
   "metadata": {},
   "source": [
    "<table align=\"left\">\n",
    "  <td>\n",
    "    <a href=\"https://is.gd/Xrb4U4\" target=\"_parent\"><img src=\"https://colab.research.google.com/assets/colab-badge.svg\" alt=\"Open In Colab\"/></a>\n",
    "  </td>\n",
    "</table>"
   ]
  },
  {
   "cell_type": "markdown",
   "metadata": {},
   "source": [
    "# Redes Neuronales - Regresión Con Tensorflow\n",
    "\n",
    "Un problema de regresión está enfocado en predecir un número asociado a un problema especifico. \n",
    "\n",
    "Por ejemplo, predecir el precio de una casa, predecir el precio de una acción, predecir la cantidad de ventas de un producto, etc.\n",
    "\n",
    "Ejemplos:\n",
    "- En cuanto será vendida una casa?\n",
    "- Cuanto tiempo durará una batería?\n",
    "- Cuantas personas comprarán un producto?\n",
    "- Cuanto costará mi seguro medico?\n",
    "- Cuanto debería guardar cada semana para gasolina?\n",
    "\n",
    "En **deteccón de objetos**, la regresión es usada para predecir la posición de un objeto en la imagen y la clase del objeto. Por ejemplo, si queremos predecir la posición de un rostro en una imagen y la clase del rostro, la regresión nos dirá la posición de la esquina superior izquierda y la esquina inferior derecha del rostro y la clase del rostro.\n",
    "\n",
    "> :book: En este notebook se abordaran los siguientes temas:\n",
    "\n",
    "- Arquitectura de una red neuronal para regresión\n",
    "- Shapes de entrada y salida de un modelo de regresión\n",
    "- Crear datos personalizados para visualizar y entrenar un modelo de regresión\n",
    "- Pasos en la creación de un modelo de regresión\n",
    "    - Crear un modelo, \n",
    "    - Compilar el modelo,\n",
    "    - Entrenar el modelo,\n",
    "    - Evaluar el modelo,\n",
    "- Diferentes metodos de evaluación de un modelo de regresión\n",
    "- Salvar y cargar un modelo de regresión"
   ]
  },
  {
   "cell_type": "code",
   "execution_count": null,
   "metadata": {},
   "outputs": [],
   "source": []
  }
 ],
 "metadata": {
  "kernelspec": {
   "display_name": "Python 3.9.13 ('gpu')",
   "language": "python",
   "name": "python3"
  },
  "language_info": {
   "name": "python",
   "version": "3.9.13"
  },
  "orig_nbformat": 4,
  "vscode": {
   "interpreter": {
    "hash": "8173103b97bf613cde717d81021a4a8a77760fbef76bd6423549d26b1e1d3fec"
   }
  }
 },
 "nbformat": 4,
 "nbformat_minor": 2
}

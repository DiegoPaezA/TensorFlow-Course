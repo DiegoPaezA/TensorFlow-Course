{
 "cells": [
  {
   "attachments": {},
   "cell_type": "markdown",
   "metadata": {},
   "source": [
    "<table align=\"left\">\n",
    "  <td>\n",
    "    <a href=\"https://tinyurl.com/2gd2b9md\" target=\"_parent\"><img src=\"https://colab.research.google.com/assets/colab-badge.svg\" alt=\"Open In Colab\"/></a>\n",
    "  </td>\n",
    "</table>"
   ]
  },
  {
   "attachments": {},
   "cell_type": "markdown",
   "metadata": {},
   "source": [
    "# Transfer Learning con TensorFlow\n",
    "\n",
    "## Parte 2. Fine-tuning\n",
    "\n",
    "**Transfer learning** es una técnica de aprendizaje automático que nos permite aprovechar los patrones aprendidos por un modelo en un problema para resolver otro problema.\n",
    "\n",
    "\n",
    "En **fine-tuning transfer learning**, los pesos pre-entrenados de otro modelo se descongelan y se ajustan durante el entrenamiento para adaptarse mejor a sus propios datos.\n",
    "\n",
    "Para feature extraction transfer learning, solo se puede entrenar las 1-3 primeras capas de un modelo pre-entrenado con sus propios datos, en el aprendizaje de transferencia de fine-tuning, puede entrenar 1-3+ capas de un modelo pre-entrenado (donde el '+' indica que muchas o todas las capas podrían entrenarse).\n",
    "\n",
    "<img src=\"https://raw.githubusercontent.com/mrdbourke/tensorflow-deep-learning/main/images/05-transfer-learning-feature-extraction-vs-fine-tuning.png\" width=\"600\"/>\n",
    "\n",
    "\n",
    ":book: **Vamos a ver lo siguiente con TensorFlow:**\n",
    "\n",
    "- Introducción a fine-tuning, un tipo de aprendizaje de transferencia para modificar un modelo pre-entrenado para que sea más adecuado para sus datos. \n",
    "- Uso de la **API Funcional de Keras** (una manera diferente de construir modelos en Keras).\n",
    "- Uso de un dataset más pequeño para experimentar más rápido (por ejemplo, 1-10% de muestras de entrenamiento de 10 clases de alimentos).\n",
    "- Aumento de datos (cómo hacer que su conjunto de datos de entrenamiento sea más diverso sin agregar más datos).\n",
    "- Ejecución de una serie de experimentos de modelado en nuestros datos de Food Vision.\n",
    "    - Modelo 0: un modelo de aprendizaje de transferencia usando la API Funcional de Keras.\n",
    "    - Modelo 1: un modelo de extracción de características de aprendizaje de transferencia en 1% de los datos con aumento de datos.\n",
    "    - Modelo 2: un modelo de extracción de características de aprendizaje de transferencia en 10% de los datos con aumento de datos.\n",
    "    - Modelo 3: un modelo de aprendizaje de transferencia de fine-tuning en 10% de los datos.\n",
    "    - Modelo 4: un modelo de aprendizaje de transferencia de fine-tuning en 100% de los datos.\n",
    "- Introducción del callback ModelCheckpoint para guardar los resultados de entrenamiento intermedios.\n",
    "- Comparación de los resultados de los experimentos de modelos usando TensorBoard.\n"
   ]
  },
  {
   "cell_type": "code",
   "execution_count": null,
   "metadata": {},
   "outputs": [],
   "source": []
  }
 ],
 "metadata": {
  "kernelspec": {
   "display_name": "gpu",
   "language": "python",
   "name": "python3"
  },
  "language_info": {
   "name": "python",
   "version": "3.9.13 (main, Aug 25 2022, 23:51:50) [MSC v.1916 64 bit (AMD64)]"
  },
  "orig_nbformat": 4,
  "vscode": {
   "interpreter": {
    "hash": "8173103b97bf613cde717d81021a4a8a77760fbef76bd6423549d26b1e1d3fec"
   }
  }
 },
 "nbformat": 4,
 "nbformat_minor": 2
}

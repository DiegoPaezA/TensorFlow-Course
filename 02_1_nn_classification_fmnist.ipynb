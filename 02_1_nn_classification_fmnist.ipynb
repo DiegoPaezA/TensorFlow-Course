{
 "cells": [
  {
   "attachments": {},
   "cell_type": "markdown",
   "metadata": {},
   "source": [
    "# Problema de Clasificación usando Fashion MNIST dataset\n",
    "\n",
    "Fashion MNIST es un dataset de imágenes de ropa, como zapatillas y camisetas. Cada imagen es en escala de grises de 28x28 pixeles, con un total de 10 clases de ropa diferentes. Este dataset es muy similar al dataset MNIST, que es un dataset de dígitos escritos a mano (0, 1, 2, etc).\n",
    "\n",
    "Clases de ropa:\n",
    "\n",
    "- Camiseta/Top (T-shirt/top)\n",
    "- Pantalón (Trouser)\n",
    "- Pullover (Pullover)\n",
    "- Vestido (Dress)\n",
    "- Abrigo (Coat)\n",
    "- Sandalia (Sandal)\n",
    "- Camisa (Shirt)\n",
    "- Zapatilla (Sneaker)\n",
    "- Bolso (Bag)\n",
    "- Bota (Ankle boot)\n",
    "\n",
    "Este dataset intenta ser un reemplazo más desafiante para el dataset MNIST. Como MNIST, cada imagen es asignada a una etiqueta de 0 a 9. Sin embargo, las imágenes no son de dígitos escritos a mano, sino de artículos de ropa de diferentes tipos."
   ]
  },
  {
   "cell_type": "code",
   "execution_count": null,
   "metadata": {},
   "outputs": [],
   "source": []
  }
 ],
 "metadata": {
  "kernelspec": {
   "display_name": "gpu",
   "language": "python",
   "name": "python3"
  },
  "language_info": {
   "name": "python",
   "version": "3.9.13 (main, Aug 25 2022, 23:51:50) [MSC v.1916 64 bit (AMD64)]"
  },
  "orig_nbformat": 4,
  "vscode": {
   "interpreter": {
    "hash": "8173103b97bf613cde717d81021a4a8a77760fbef76bd6423549d26b1e1d3fec"
   }
  }
 },
 "nbformat": 4,
 "nbformat_minor": 2
}
